{
  "cells": [
    {
      "cell_type": "markdown",
      "metadata": {
        "id": "view-in-github",
        "colab_type": "text"
      },
      "source": [
        "<a href=\"https://colab.research.google.com/github/Swagaat/HW-AI/blob/main/9_01_Lab1.ipynb\" target=\"_parent\"><img src=\"https://colab.research.google.com/assets/colab-badge.svg\" alt=\"Open In Colab\"/></a>"
      ]
    },
    {
      "cell_type": "code",
      "execution_count": 2,
      "id": "6e111123-6256-4395-9dc3-691b98381030",
      "metadata": {
        "tags": [],
        "id": "6e111123-6256-4395-9dc3-691b98381030"
      },
      "outputs": [],
      "source": [
        "import numpy as np\n",
        "import pandas as pd\n",
        "# Define the percentage of missing values you want in the dataset (e.g., 10%)\n",
        "Data=pd.read_csv('adult.csv')"
      ]
    },
    {
      "cell_type": "markdown",
      "id": "7adfea4a-192d-4237-bba6-e549765826fe",
      "metadata": {
        "id": "7adfea4a-192d-4237-bba6-e549765826fe"
      },
      "source": [
        "Int his lab assignment, you have two tasks:\n",
        "1. Create a dataset from the `adult.csv` where the new dataset will have columns with random number of missing values. The ratio of missing values should randomly change from 5% to 10%. The numerical columns will have `np.NaN`, and categorical ones will have `?` as missing values.\n",
        "For example,the first column, age, is numerical. It may have a randomly chosen 6% of the age values as missing.\n",
        "At this stage, take they type of each coumn as the datatype. For example, `marital_status` looks like a numerical column at the beginning. Tka it as a numerical column and replace a random percentage of values with `np.NaN`.\n",
        "2. Create a pipeline with transformers and a classifier `SVC(kernel='rbf', C=1, gamma='scale')`. When creating the transformers, make sure that each column is correctly classified as numerical or categorical. For example, `marital_status` may have a `float` data type, but in reality it is a categorical variable. For that reason, you need to update the data types for all categorical variables.Report the accuracy for your model.\n",
        "3. Repeat the second step for the original dataset without any missing values. Compatre your result with that from the second step."
      ]
    },
    {
      "cell_type": "code",
      "execution_count": 3,
      "id": "8a7f5f98-b152-4f32-999f-66d6d76aa4bb",
      "metadata": {
        "colab": {
          "base_uri": "https://localhost:8080/"
        },
        "id": "8a7f5f98-b152-4f32-999f-66d6d76aa4bb",
        "outputId": "469c3a71-9678-4f77-d9d4-f2219068fc47"
      },
      "outputs": [
        {
          "output_type": "execute_result",
          "data": {
            "text/plain": [
              "Index(['Unnamed: 0', 'age', 'workclass', 'education', 'education-num',\n",
              "       'marital-status', 'occupation', 'relationship', 'race', 'gender',\n",
              "       'capital-gain', 'capital-loss', 'hours-per-week', 'native-country',\n",
              "       'income'],\n",
              "      dtype='object')"
            ]
          },
          "metadata": {},
          "execution_count": 3
        }
      ],
      "source": [
        "Data.columns"
      ]
    },
    {
      "cell_type": "code",
      "execution_count": 4,
      "id": "48c1d93d",
      "metadata": {
        "colab": {
          "base_uri": "https://localhost:8080/"
        },
        "id": "48c1d93d",
        "outputId": "8298ab3b-b95a-4728-8a43-1a5ec15b4fc0"
      },
      "outputs": [
        {
          "output_type": "execute_result",
          "data": {
            "text/plain": [
              "<bound method DataFrame.info of        Unnamed: 0  age          workclass    education  education-num  \\\n",
              "0               0   39          State-gov    Bachelors             13   \n",
              "1               1   50   Self-emp-not-inc    Bachelors             13   \n",
              "2               2   38            Private      HS-grad              9   \n",
              "3               3   53            Private         11th              7   \n",
              "4               4   28            Private    Bachelors             13   \n",
              "...           ...  ...                ...          ...            ...   \n",
              "32556       32556   27            Private   Assoc-acdm             12   \n",
              "32557       32557   40            Private      HS-grad              9   \n",
              "32558       32558   58            Private      HS-grad              9   \n",
              "32559       32559   22            Private      HS-grad              9   \n",
              "32560       32560   52       Self-emp-inc      HS-grad              9   \n",
              "\n",
              "            marital-status          occupation    relationship    race  \\\n",
              "0            Never-married        Adm-clerical   Not-in-family   White   \n",
              "1       Married-civ-spouse     Exec-managerial         Husband   White   \n",
              "2                 Divorced   Handlers-cleaners   Not-in-family   White   \n",
              "3       Married-civ-spouse   Handlers-cleaners         Husband   Black   \n",
              "4       Married-civ-spouse      Prof-specialty            Wife   Black   \n",
              "...                    ...                 ...             ...     ...   \n",
              "32556   Married-civ-spouse        Tech-support            Wife   White   \n",
              "32557   Married-civ-spouse   Machine-op-inspct         Husband   White   \n",
              "32558              Widowed        Adm-clerical       Unmarried   White   \n",
              "32559        Never-married        Adm-clerical       Own-child   White   \n",
              "32560   Married-civ-spouse     Exec-managerial            Wife   White   \n",
              "\n",
              "        gender  capital-gain  capital-loss  hours-per-week  native-country  \\\n",
              "0         Male          2174             0              40   United-States   \n",
              "1         Male             0             0              13   United-States   \n",
              "2         Male             0             0              40   United-States   \n",
              "3         Male             0             0              40   United-States   \n",
              "4       Female             0             0              40            Cuba   \n",
              "...        ...           ...           ...             ...             ...   \n",
              "32556   Female             0             0              38   United-States   \n",
              "32557     Male             0             0              40   United-States   \n",
              "32558   Female             0             0              40   United-States   \n",
              "32559     Male             0             0              20   United-States   \n",
              "32560   Female         15024             0              40   United-States   \n",
              "\n",
              "       income  \n",
              "0       <=50K  \n",
              "1       <=50K  \n",
              "2       <=50K  \n",
              "3       <=50K  \n",
              "4       <=50K  \n",
              "...       ...  \n",
              "32556   <=50K  \n",
              "32557    >50K  \n",
              "32558   <=50K  \n",
              "32559   <=50K  \n",
              "32560    >50K  \n",
              "\n",
              "[32561 rows x 15 columns]>"
            ]
          },
          "metadata": {},
          "execution_count": 4
        }
      ],
      "source": [
        "Data.info"
      ]
    },
    {
      "cell_type": "code",
      "execution_count": 5,
      "id": "3c65bf44",
      "metadata": {
        "id": "3c65bf44"
      },
      "outputs": [],
      "source": [
        "\n",
        "modified_data = Data.copy()"
      ]
    },
    {
      "cell_type": "code",
      "source": [
        "\n",
        "for column in modified_data.columns:\n",
        "\n",
        "    missing_ratio = np.random.uniform(0.05, 0.1)\n",
        "\n",
        "    data_type = modified_data[column].dtype\n",
        "\n",
        "\n",
        "    if data_type == 'int64' or data_type == 'float64':\n",
        "\n",
        "        mask = np.random.choice([True, False], size=len(modified_data), p=[missing_ratio, 1-missing_ratio])\n",
        "\n",
        "\n",
        "        modified_data.loc[mask, column] = np.nan\n",
        "    else:\n",
        "\n",
        "        mask = np.random.choice([True, False], size=len(modified_data), p=[missing_ratio, 1-missing_ratio])\n",
        "\n",
        "\n",
        "        modified_data.loc[mask, column] = \"?\"\n",
        ""
      ],
      "metadata": {
        "id": "iDy6ujwC4R0-"
      },
      "id": "iDy6ujwC4R0-",
      "execution_count": null,
      "outputs": []
    },
    {
      "cell_type": "code",
      "source": [
        "print(modified_data)"
      ],
      "metadata": {
        "id": "W4ktJ-dK4R4J"
      },
      "id": "W4ktJ-dK4R4J",
      "execution_count": null,
      "outputs": []
    },
    {
      "cell_type": "code",
      "source": [
        "from sklearn.pipeline import Pipeline\n",
        "from sklearn.compose import ColumnTransformer\n",
        "from sklearn.impute import SimpleImputer\n",
        "from sklearn.preprocessing import StandardScaler, OneHotEncoder\n",
        "from sklearn.svm import SVC\n",
        "from sklearn.model_selection import train_test_split\n",
        "from sklearn.metrics import accuracy_score\n"
      ],
      "metadata": {
        "id": "XMfwRYh14R7B"
      },
      "id": "XMfwRYh14R7B",
      "execution_count": null,
      "outputs": []
    },
    {
      "cell_type": "code",
      "source": [
        "\n",
        "X = modified_data.drop('income', axis=1)\n",
        "y = modified_data['income']"
      ],
      "metadata": {
        "id": "T8IfigX-4R9n"
      },
      "id": "T8IfigX-4R9n",
      "execution_count": null,
      "outputs": []
    },
    {
      "cell_type": "code",
      "source": [
        "\n",
        "X_train, X_test, y_train, y_test = train_test_split(X, y, test_size=0.2, random_state=42)"
      ],
      "metadata": {
        "id": "JPZx8S114SAh"
      },
      "id": "JPZx8S114SAh",
      "execution_count": null,
      "outputs": []
    },
    {
      "cell_type": "code",
      "source": [
        "\n",
        "numerical_transformer = Pipeline(steps=[\n",
        "    ('imputer', SimpleImputer(strategy='mean')),\n",
        "    ('scaler', StandardScaler())\n",
        "])\n",
        "\n",
        "categorical_transformer = Pipeline(steps=[\n",
        "    ('imputer', SimpleImputer(strategy='most_frequent')),\n",
        "    ('onehot', OneHotEncoder(handle_unknown='ignore'))\n",
        "])"
      ],
      "metadata": {
        "id": "pHkJQ6dT4ZRb"
      },
      "id": "pHkJQ6dT4ZRb",
      "execution_count": null,
      "outputs": []
    },
    {
      "cell_type": "code",
      "source": [
        "preprocessor = ColumnTransformer(\n",
        "    transformers=[\n",
        "        ('num', numerical_transformer, numerical_cols),\n",
        "        ('cat', categorical_transformer, categorical_cols)\n",
        "    ])\n"
      ],
      "metadata": {
        "id": "e23SVeeE4ZUd"
      },
      "id": "e23SVeeE4ZUd",
      "execution_count": null,
      "outputs": []
    },
    {
      "cell_type": "code",
      "source": [
        "# Create the final pipeline with SVC classifier\n",
        "pipeline = Pipeline(steps=[\n",
        "    ('preprocessor', preprocessor),\n",
        "    ('classifier', SVC(kernel='rbf', C=1, gamma='scale'))\n",
        "])\n"
      ],
      "metadata": {
        "id": "ZaG8OdeA4fsk"
      },
      "id": "ZaG8OdeA4fsk",
      "execution_count": null,
      "outputs": []
    },
    {
      "cell_type": "code",
      "source": [
        "pipeline.fit(X_train, y_train)"
      ],
      "metadata": {
        "id": "Y2tcDWz84fvJ"
      },
      "id": "Y2tcDWz84fvJ",
      "execution_count": null,
      "outputs": []
    },
    {
      "cell_type": "code",
      "source": [
        "y_pred = pipeline.predict(X_test)"
      ],
      "metadata": {
        "id": "-2SUyLUo4fyB"
      },
      "id": "-2SUyLUo4fyB",
      "execution_count": null,
      "outputs": []
    },
    {
      "cell_type": "code",
      "source": [
        "accuracy = accuracy_score(y_test, y_pred)\n",
        "print(f\"Accuracy: {accuracy:.4f}\")\n"
      ],
      "metadata": {
        "id": "kVZhJFb94f04"
      },
      "id": "kVZhJFb94f04",
      "execution_count": null,
      "outputs": []
    },
    {
      "cell_type": "code",
      "source": [],
      "metadata": {
        "id": "LEdm41Zn4ZXD"
      },
      "id": "LEdm41Zn4ZXD",
      "execution_count": null,
      "outputs": []
    }
  ],
  "metadata": {
    "kernelspec": {
      "display_name": "Python 3 (ipykernel)",
      "language": "python",
      "name": "python3"
    },
    "language_info": {
      "codemirror_mode": {
        "name": "ipython",
        "version": 3
      },
      "file_extension": ".py",
      "mimetype": "text/x-python",
      "name": "python",
      "nbconvert_exporter": "python",
      "pygments_lexer": "ipython3",
      "version": "3.11.5"
    },
    "colab": {
      "provenance": [],
      "include_colab_link": true
    }
  },
  "nbformat": 4,
  "nbformat_minor": 5
}